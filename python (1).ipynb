{
  "nbformat": 4,
  "nbformat_minor": 0,
  "metadata": {
    "colab": {
      "provenance": []
    },
    "kernelspec": {
      "name": "python3",
      "display_name": "Python 3"
    },
    "language_info": {
      "name": "python"
    }
  },
  "cells": [
    {
      "cell_type": "markdown",
      "source": [
        "# function\n"
      ],
      "metadata": {
        "id": "lkzHiOuz7CCT"
      }
    },
    {
      "cell_type": "markdown",
      "source": [
        "uuuuu"
      ],
      "metadata": {
        "id": "Idh0GO6C7f7H"
      }
    },
    {
      "cell_type": "markdown",
      "source": [
        "oilpk"
      ],
      "metadata": {
        "id": "ohWml8yk-Qsm"
      }
    },
    {
      "cell_type": "markdown",
      "source": [],
      "metadata": {
        "id": "jf2NqsQ77XBH"
      }
    }
  ]
}